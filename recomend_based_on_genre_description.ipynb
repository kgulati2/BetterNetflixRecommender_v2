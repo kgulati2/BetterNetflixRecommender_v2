{
 "cells": [
  {
   "cell_type": "code",
   "execution_count": 1,
   "id": "b8125f47",
   "metadata": {},
   "outputs": [],
   "source": [
    "# ref: https://www.kaggle.com/code/gazu468/movie-recommendation-system-with-basic-concept#Feature-Extraction-\n",
    "import numpy as np\n",
    "import pandas as pd\n",
    "import matplotlib.pyplot as plt"
   ]
  },
  {
   "cell_type": "code",
   "execution_count": 2,
   "id": "2952a623",
   "metadata": {},
   "outputs": [],
   "source": [
    "movies=pd.read_csv(\"./data/titles.csv\")"
   ]
  },
  {
   "cell_type": "code",
   "execution_count": 3,
   "id": "ac152f0f",
   "metadata": {},
   "outputs": [
    {
     "data": {
      "text/html": [
       "<div>\n",
       "<style scoped>\n",
       "    .dataframe tbody tr th:only-of-type {\n",
       "        vertical-align: middle;\n",
       "    }\n",
       "\n",
       "    .dataframe tbody tr th {\n",
       "        vertical-align: top;\n",
       "    }\n",
       "\n",
       "    .dataframe thead th {\n",
       "        text-align: right;\n",
       "    }\n",
       "</style>\n",
       "<table border=\"1\" class=\"dataframe\">\n",
       "  <thead>\n",
       "    <tr style=\"text-align: right;\">\n",
       "      <th></th>\n",
       "      <th>id</th>\n",
       "      <th>title</th>\n",
       "      <th>type</th>\n",
       "      <th>description</th>\n",
       "      <th>release_year</th>\n",
       "      <th>age_certification</th>\n",
       "      <th>runtime</th>\n",
       "      <th>genres</th>\n",
       "      <th>production_countries</th>\n",
       "      <th>seasons</th>\n",
       "      <th>imdb_id</th>\n",
       "      <th>imdb_score</th>\n",
       "      <th>imdb_votes</th>\n",
       "      <th>tmdb_popularity</th>\n",
       "      <th>tmdb_score</th>\n",
       "    </tr>\n",
       "  </thead>\n",
       "  <tbody>\n",
       "    <tr>\n",
       "      <th>0</th>\n",
       "      <td>ts300399</td>\n",
       "      <td>Five Came Back: The Reference Films</td>\n",
       "      <td>SHOW</td>\n",
       "      <td>This collection includes 12 World War II-era p...</td>\n",
       "      <td>1945</td>\n",
       "      <td>TV-MA</td>\n",
       "      <td>48</td>\n",
       "      <td>['documentation']</td>\n",
       "      <td>['US']</td>\n",
       "      <td>1.0</td>\n",
       "      <td>NaN</td>\n",
       "      <td>NaN</td>\n",
       "      <td>NaN</td>\n",
       "      <td>0.600</td>\n",
       "      <td>NaN</td>\n",
       "    </tr>\n",
       "    <tr>\n",
       "      <th>1</th>\n",
       "      <td>tm84618</td>\n",
       "      <td>Taxi Driver</td>\n",
       "      <td>MOVIE</td>\n",
       "      <td>A mentally unstable Vietnam War veteran works ...</td>\n",
       "      <td>1976</td>\n",
       "      <td>R</td>\n",
       "      <td>113</td>\n",
       "      <td>['crime', 'drama']</td>\n",
       "      <td>['US']</td>\n",
       "      <td>NaN</td>\n",
       "      <td>tt0075314</td>\n",
       "      <td>8.3</td>\n",
       "      <td>795222.0</td>\n",
       "      <td>27.612</td>\n",
       "      <td>8.2</td>\n",
       "    </tr>\n",
       "    <tr>\n",
       "      <th>2</th>\n",
       "      <td>tm127384</td>\n",
       "      <td>Monty Python and the Holy Grail</td>\n",
       "      <td>MOVIE</td>\n",
       "      <td>King Arthur, accompanied by his squire, recrui...</td>\n",
       "      <td>1975</td>\n",
       "      <td>PG</td>\n",
       "      <td>91</td>\n",
       "      <td>['comedy', 'fantasy']</td>\n",
       "      <td>['GB']</td>\n",
       "      <td>NaN</td>\n",
       "      <td>tt0071853</td>\n",
       "      <td>8.2</td>\n",
       "      <td>530877.0</td>\n",
       "      <td>18.216</td>\n",
       "      <td>7.8</td>\n",
       "    </tr>\n",
       "    <tr>\n",
       "      <th>3</th>\n",
       "      <td>tm70993</td>\n",
       "      <td>Life of Brian</td>\n",
       "      <td>MOVIE</td>\n",
       "      <td>Brian Cohen is an average young Jewish man, bu...</td>\n",
       "      <td>1979</td>\n",
       "      <td>R</td>\n",
       "      <td>94</td>\n",
       "      <td>['comedy']</td>\n",
       "      <td>['GB']</td>\n",
       "      <td>NaN</td>\n",
       "      <td>tt0079470</td>\n",
       "      <td>8.0</td>\n",
       "      <td>392419.0</td>\n",
       "      <td>17.505</td>\n",
       "      <td>7.8</td>\n",
       "    </tr>\n",
       "    <tr>\n",
       "      <th>4</th>\n",
       "      <td>tm190788</td>\n",
       "      <td>The Exorcist</td>\n",
       "      <td>MOVIE</td>\n",
       "      <td>12-year-old Regan MacNeil begins to adapt an e...</td>\n",
       "      <td>1973</td>\n",
       "      <td>R</td>\n",
       "      <td>133</td>\n",
       "      <td>['horror']</td>\n",
       "      <td>['US']</td>\n",
       "      <td>NaN</td>\n",
       "      <td>tt0070047</td>\n",
       "      <td>8.1</td>\n",
       "      <td>391942.0</td>\n",
       "      <td>95.337</td>\n",
       "      <td>7.7</td>\n",
       "    </tr>\n",
       "    <tr>\n",
       "      <th>...</th>\n",
       "      <td>...</td>\n",
       "      <td>...</td>\n",
       "      <td>...</td>\n",
       "      <td>...</td>\n",
       "      <td>...</td>\n",
       "      <td>...</td>\n",
       "      <td>...</td>\n",
       "      <td>...</td>\n",
       "      <td>...</td>\n",
       "      <td>...</td>\n",
       "      <td>...</td>\n",
       "      <td>...</td>\n",
       "      <td>...</td>\n",
       "      <td>...</td>\n",
       "      <td>...</td>\n",
       "    </tr>\n",
       "    <tr>\n",
       "      <th>5801</th>\n",
       "      <td>tm1014599</td>\n",
       "      <td>Fine Wine</td>\n",
       "      <td>MOVIE</td>\n",
       "      <td>A beautiful love story that can happen between...</td>\n",
       "      <td>2021</td>\n",
       "      <td>NaN</td>\n",
       "      <td>100</td>\n",
       "      <td>['romance', 'drama']</td>\n",
       "      <td>['NG']</td>\n",
       "      <td>NaN</td>\n",
       "      <td>tt13857480</td>\n",
       "      <td>6.9</td>\n",
       "      <td>39.0</td>\n",
       "      <td>0.966</td>\n",
       "      <td>NaN</td>\n",
       "    </tr>\n",
       "    <tr>\n",
       "      <th>5802</th>\n",
       "      <td>tm1108171</td>\n",
       "      <td>Edis Starlight</td>\n",
       "      <td>MOVIE</td>\n",
       "      <td>Rising star Edis's career journey with ups and...</td>\n",
       "      <td>2021</td>\n",
       "      <td>NaN</td>\n",
       "      <td>74</td>\n",
       "      <td>['music', 'documentation']</td>\n",
       "      <td>[]</td>\n",
       "      <td>NaN</td>\n",
       "      <td>NaN</td>\n",
       "      <td>NaN</td>\n",
       "      <td>NaN</td>\n",
       "      <td>1.036</td>\n",
       "      <td>8.5</td>\n",
       "    </tr>\n",
       "    <tr>\n",
       "      <th>5803</th>\n",
       "      <td>tm1045018</td>\n",
       "      <td>Clash</td>\n",
       "      <td>MOVIE</td>\n",
       "      <td>A man from Nigeria returns to his family in Ca...</td>\n",
       "      <td>2021</td>\n",
       "      <td>NaN</td>\n",
       "      <td>88</td>\n",
       "      <td>['family', 'drama']</td>\n",
       "      <td>['NG', 'CA']</td>\n",
       "      <td>NaN</td>\n",
       "      <td>tt14620732</td>\n",
       "      <td>6.5</td>\n",
       "      <td>32.0</td>\n",
       "      <td>0.709</td>\n",
       "      <td>NaN</td>\n",
       "    </tr>\n",
       "    <tr>\n",
       "      <th>5804</th>\n",
       "      <td>tm1098060</td>\n",
       "      <td>Shadow Parties</td>\n",
       "      <td>MOVIE</td>\n",
       "      <td>A family faces destruction in a long-running c...</td>\n",
       "      <td>2021</td>\n",
       "      <td>NaN</td>\n",
       "      <td>116</td>\n",
       "      <td>['action', 'thriller']</td>\n",
       "      <td>[]</td>\n",
       "      <td>NaN</td>\n",
       "      <td>tt10168094</td>\n",
       "      <td>6.2</td>\n",
       "      <td>9.0</td>\n",
       "      <td>2.186</td>\n",
       "      <td>NaN</td>\n",
       "    </tr>\n",
       "    <tr>\n",
       "      <th>5805</th>\n",
       "      <td>ts271048</td>\n",
       "      <td>Mighty Little Bheem: Kite Festival</td>\n",
       "      <td>SHOW</td>\n",
       "      <td>With winter behind them, Bheem and his townspe...</td>\n",
       "      <td>2021</td>\n",
       "      <td>NaN</td>\n",
       "      <td>0</td>\n",
       "      <td>['family', 'comedy', 'animation']</td>\n",
       "      <td>[]</td>\n",
       "      <td>1.0</td>\n",
       "      <td>tt13711094</td>\n",
       "      <td>8.8</td>\n",
       "      <td>16.0</td>\n",
       "      <td>0.979</td>\n",
       "      <td>10.0</td>\n",
       "    </tr>\n",
       "  </tbody>\n",
       "</table>\n",
       "<p>5806 rows × 15 columns</p>\n",
       "</div>"
      ],
      "text/plain": [
       "             id                                title   type  \\\n",
       "0      ts300399  Five Came Back: The Reference Films   SHOW   \n",
       "1       tm84618                          Taxi Driver  MOVIE   \n",
       "2      tm127384      Monty Python and the Holy Grail  MOVIE   \n",
       "3       tm70993                        Life of Brian  MOVIE   \n",
       "4      tm190788                         The Exorcist  MOVIE   \n",
       "...         ...                                  ...    ...   \n",
       "5801  tm1014599                            Fine Wine  MOVIE   \n",
       "5802  tm1108171                       Edis Starlight  MOVIE   \n",
       "5803  tm1045018                                Clash  MOVIE   \n",
       "5804  tm1098060                       Shadow Parties  MOVIE   \n",
       "5805   ts271048   Mighty Little Bheem: Kite Festival   SHOW   \n",
       "\n",
       "                                            description  release_year  \\\n",
       "0     This collection includes 12 World War II-era p...          1945   \n",
       "1     A mentally unstable Vietnam War veteran works ...          1976   \n",
       "2     King Arthur, accompanied by his squire, recrui...          1975   \n",
       "3     Brian Cohen is an average young Jewish man, bu...          1979   \n",
       "4     12-year-old Regan MacNeil begins to adapt an e...          1973   \n",
       "...                                                 ...           ...   \n",
       "5801  A beautiful love story that can happen between...          2021   \n",
       "5802  Rising star Edis's career journey with ups and...          2021   \n",
       "5803  A man from Nigeria returns to his family in Ca...          2021   \n",
       "5804  A family faces destruction in a long-running c...          2021   \n",
       "5805  With winter behind them, Bheem and his townspe...          2021   \n",
       "\n",
       "     age_certification  runtime                             genres  \\\n",
       "0                TV-MA       48                  ['documentation']   \n",
       "1                    R      113                 ['crime', 'drama']   \n",
       "2                   PG       91              ['comedy', 'fantasy']   \n",
       "3                    R       94                         ['comedy']   \n",
       "4                    R      133                         ['horror']   \n",
       "...                ...      ...                                ...   \n",
       "5801               NaN      100               ['romance', 'drama']   \n",
       "5802               NaN       74         ['music', 'documentation']   \n",
       "5803               NaN       88                ['family', 'drama']   \n",
       "5804               NaN      116             ['action', 'thriller']   \n",
       "5805               NaN        0  ['family', 'comedy', 'animation']   \n",
       "\n",
       "     production_countries  seasons     imdb_id  imdb_score  imdb_votes  \\\n",
       "0                  ['US']      1.0         NaN         NaN         NaN   \n",
       "1                  ['US']      NaN   tt0075314         8.3    795222.0   \n",
       "2                  ['GB']      NaN   tt0071853         8.2    530877.0   \n",
       "3                  ['GB']      NaN   tt0079470         8.0    392419.0   \n",
       "4                  ['US']      NaN   tt0070047         8.1    391942.0   \n",
       "...                   ...      ...         ...         ...         ...   \n",
       "5801               ['NG']      NaN  tt13857480         6.9        39.0   \n",
       "5802                   []      NaN         NaN         NaN         NaN   \n",
       "5803         ['NG', 'CA']      NaN  tt14620732         6.5        32.0   \n",
       "5804                   []      NaN  tt10168094         6.2         9.0   \n",
       "5805                   []      1.0  tt13711094         8.8        16.0   \n",
       "\n",
       "      tmdb_popularity  tmdb_score  \n",
       "0               0.600         NaN  \n",
       "1              27.612         8.2  \n",
       "2              18.216         7.8  \n",
       "3              17.505         7.8  \n",
       "4              95.337         7.7  \n",
       "...               ...         ...  \n",
       "5801            0.966         NaN  \n",
       "5802            1.036         8.5  \n",
       "5803            0.709         NaN  \n",
       "5804            2.186         NaN  \n",
       "5805            0.979        10.0  \n",
       "\n",
       "[5806 rows x 15 columns]"
      ]
     },
     "execution_count": 3,
     "metadata": {},
     "output_type": "execute_result"
    }
   ],
   "source": [
    "movies"
   ]
  },
  {
   "cell_type": "markdown",
   "id": "1b835e63",
   "metadata": {},
   "source": [
    "## process and clean data"
   ]
  },
  {
   "cell_type": "code",
   "execution_count": 4,
   "id": "c2b48e01",
   "metadata": {},
   "outputs": [],
   "source": [
    "movies=movies[['id','title','genres','description', \"imdb_id\",\"imdb_score\",\"imdb_votes\",\"tmdb_popularity\",\"tmdb_score\"]]"
   ]
  },
  {
   "cell_type": "code",
   "execution_count": 5,
   "id": "5eede1f4",
   "metadata": {},
   "outputs": [
    {
     "data": {
      "text/plain": [
       "id                   0\n",
       "title                1\n",
       "genres               0\n",
       "description         18\n",
       "imdb_id            444\n",
       "imdb_score         523\n",
       "imdb_votes         539\n",
       "tmdb_popularity     94\n",
       "tmdb_score         318\n",
       "dtype: int64"
      ]
     },
     "execution_count": 5,
     "metadata": {},
     "output_type": "execute_result"
    }
   ],
   "source": [
    "movies.isnull().sum()"
   ]
  },
  {
   "cell_type": "code",
   "execution_count": 6,
   "id": "7fdb2fc2",
   "metadata": {},
   "outputs": [
    {
     "name": "stderr",
     "output_type": "stream",
     "text": [
      "/var/folders/zf/r7d7hnsn7738wkdh4qgs_lxr0000gn/T/ipykernel_79570/3786870272.py:1: SettingWithCopyWarning: \n",
      "A value is trying to be set on a copy of a slice from a DataFrame\n",
      "\n",
      "See the caveats in the documentation: https://pandas.pydata.org/pandas-docs/stable/user_guide/indexing.html#returning-a-view-versus-a-copy\n",
      "  movies.dropna(inplace=True)\n"
     ]
    }
   ],
   "source": [
    "movies.dropna(inplace=True)"
   ]
  },
  {
   "cell_type": "code",
   "execution_count": 7,
   "id": "9fae3a50",
   "metadata": {},
   "outputs": [
    {
     "data": {
      "text/plain": [
       "id                 0\n",
       "title              0\n",
       "genres             0\n",
       "description        0\n",
       "imdb_id            0\n",
       "imdb_score         0\n",
       "imdb_votes         0\n",
       "tmdb_popularity    0\n",
       "tmdb_score         0\n",
       "dtype: int64"
      ]
     },
     "execution_count": 7,
     "metadata": {},
     "output_type": "execute_result"
    }
   ],
   "source": [
    "movies.isnull().sum()"
   ]
  },
  {
   "cell_type": "code",
   "execution_count": 8,
   "id": "71f48014",
   "metadata": {},
   "outputs": [
    {
     "data": {
      "text/plain": [
       "0"
      ]
     },
     "execution_count": 8,
     "metadata": {},
     "output_type": "execute_result"
    }
   ],
   "source": [
    "movies.duplicated().sum()"
   ]
  },
  {
   "cell_type": "code",
   "execution_count": 9,
   "id": "89c86fac",
   "metadata": {},
   "outputs": [],
   "source": [
    "import ast"
   ]
  },
  {
   "cell_type": "code",
   "execution_count": 10,
   "id": "fe529754",
   "metadata": {},
   "outputs": [
    {
     "name": "stderr",
     "output_type": "stream",
     "text": [
      "/var/folders/zf/r7d7hnsn7738wkdh4qgs_lxr0000gn/T/ipykernel_79570/3560235739.py:6: SettingWithCopyWarning: \n",
      "A value is trying to be set on a copy of a slice from a DataFrame.\n",
      "Try using .loc[row_indexer,col_indexer] = value instead\n",
      "\n",
      "See the caveats in the documentation: https://pandas.pydata.org/pandas-docs/stable/user_guide/indexing.html#returning-a-view-versus-a-copy\n",
      "  movies['genres'] = movies['genres'].apply(convert)\n"
     ]
    }
   ],
   "source": [
    "# genre: convert string representation of list to actual list\n",
    "def convert(s):\n",
    "    l = ast.literal_eval(s)\n",
    "    l = [n.strip() for n in l]\n",
    "    return l\n",
    "movies['genres'] = movies['genres'].apply(convert)\n"
   ]
  },
  {
   "cell_type": "code",
   "execution_count": 11,
   "id": "b6b1ddda",
   "metadata": {},
   "outputs": [
    {
     "name": "stderr",
     "output_type": "stream",
     "text": [
      "/var/folders/zf/r7d7hnsn7738wkdh4qgs_lxr0000gn/T/ipykernel_79570/147446734.py:2: SettingWithCopyWarning: \n",
      "A value is trying to be set on a copy of a slice from a DataFrame.\n",
      "Try using .loc[row_indexer,col_indexer] = value instead\n",
      "\n",
      "See the caveats in the documentation: https://pandas.pydata.org/pandas-docs/stable/user_guide/indexing.html#returning-a-view-versus-a-copy\n",
      "  movies['description']=movies['description'].apply(lambda x: x.split())\n"
     ]
    }
   ],
   "source": [
    "# description: convert string to list of words\n",
    "movies['description']=movies['description'].apply(lambda x: x.split())"
   ]
  },
  {
   "cell_type": "code",
   "execution_count": 12,
   "id": "560ca27b",
   "metadata": {},
   "outputs": [
    {
     "name": "stderr",
     "output_type": "stream",
     "text": [
      "/var/folders/zf/r7d7hnsn7738wkdh4qgs_lxr0000gn/T/ipykernel_79570/203317186.py:2: SettingWithCopyWarning: \n",
      "A value is trying to be set on a copy of a slice from a DataFrame.\n",
      "Try using .loc[row_indexer,col_indexer] = value instead\n",
      "\n",
      "See the caveats in the documentation: https://pandas.pydata.org/pandas-docs/stable/user_guide/indexing.html#returning-a-view-versus-a-copy\n",
      "  movies['genres']=movies['genres'].apply(lambda x : [i.replace(\" \",\"\")for i in x])\n",
      "/var/folders/zf/r7d7hnsn7738wkdh4qgs_lxr0000gn/T/ipykernel_79570/203317186.py:3: SettingWithCopyWarning: \n",
      "A value is trying to be set on a copy of a slice from a DataFrame.\n",
      "Try using .loc[row_indexer,col_indexer] = value instead\n",
      "\n",
      "See the caveats in the documentation: https://pandas.pydata.org/pandas-docs/stable/user_guide/indexing.html#returning-a-view-versus-a-copy\n",
      "  movies['description']=movies['description'].apply(lambda x : [i.replace(\" \",\"\")for i in x])\n"
     ]
    }
   ],
   "source": [
    "# remove space\n",
    "movies['genres']=movies['genres'].apply(lambda x : [i.replace(\" \",\"\")for i in x])\n",
    "movies['description']=movies['description'].apply(lambda x : [i.replace(\" \",\"\")for i in x])"
   ]
  },
  {
   "cell_type": "code",
   "execution_count": 13,
   "id": "0e743058",
   "metadata": {},
   "outputs": [
    {
     "data": {
      "text/html": [
       "<div>\n",
       "<style scoped>\n",
       "    .dataframe tbody tr th:only-of-type {\n",
       "        vertical-align: middle;\n",
       "    }\n",
       "\n",
       "    .dataframe tbody tr th {\n",
       "        vertical-align: top;\n",
       "    }\n",
       "\n",
       "    .dataframe thead th {\n",
       "        text-align: right;\n",
       "    }\n",
       "</style>\n",
       "<table border=\"1\" class=\"dataframe\">\n",
       "  <thead>\n",
       "    <tr style=\"text-align: right;\">\n",
       "      <th></th>\n",
       "      <th>id</th>\n",
       "      <th>title</th>\n",
       "      <th>genres</th>\n",
       "      <th>description</th>\n",
       "      <th>imdb_id</th>\n",
       "      <th>imdb_score</th>\n",
       "      <th>imdb_votes</th>\n",
       "      <th>tmdb_popularity</th>\n",
       "      <th>tmdb_score</th>\n",
       "    </tr>\n",
       "  </thead>\n",
       "  <tbody>\n",
       "    <tr>\n",
       "      <th>1</th>\n",
       "      <td>tm84618</td>\n",
       "      <td>Taxi Driver</td>\n",
       "      <td>[crime, drama]</td>\n",
       "      <td>[A, mentally, unstable, Vietnam, War, veteran,...</td>\n",
       "      <td>tt0075314</td>\n",
       "      <td>8.3</td>\n",
       "      <td>795222.0</td>\n",
       "      <td>27.612</td>\n",
       "      <td>8.2</td>\n",
       "    </tr>\n",
       "    <tr>\n",
       "      <th>2</th>\n",
       "      <td>tm127384</td>\n",
       "      <td>Monty Python and the Holy Grail</td>\n",
       "      <td>[comedy, fantasy]</td>\n",
       "      <td>[King, Arthur,, accompanied, by, his, squire,,...</td>\n",
       "      <td>tt0071853</td>\n",
       "      <td>8.2</td>\n",
       "      <td>530877.0</td>\n",
       "      <td>18.216</td>\n",
       "      <td>7.8</td>\n",
       "    </tr>\n",
       "    <tr>\n",
       "      <th>3</th>\n",
       "      <td>tm70993</td>\n",
       "      <td>Life of Brian</td>\n",
       "      <td>[comedy]</td>\n",
       "      <td>[Brian, Cohen, is, an, average, young, Jewish,...</td>\n",
       "      <td>tt0079470</td>\n",
       "      <td>8.0</td>\n",
       "      <td>392419.0</td>\n",
       "      <td>17.505</td>\n",
       "      <td>7.8</td>\n",
       "    </tr>\n",
       "    <tr>\n",
       "      <th>4</th>\n",
       "      <td>tm190788</td>\n",
       "      <td>The Exorcist</td>\n",
       "      <td>[horror]</td>\n",
       "      <td>[12-year-old, Regan, MacNeil, begins, to, adap...</td>\n",
       "      <td>tt0070047</td>\n",
       "      <td>8.1</td>\n",
       "      <td>391942.0</td>\n",
       "      <td>95.337</td>\n",
       "      <td>7.7</td>\n",
       "    </tr>\n",
       "    <tr>\n",
       "      <th>5</th>\n",
       "      <td>ts22164</td>\n",
       "      <td>Monty Python's Flying Circus</td>\n",
       "      <td>[comedy, european]</td>\n",
       "      <td>[A, British, sketch, comedy, series, with, the...</td>\n",
       "      <td>tt0063929</td>\n",
       "      <td>8.8</td>\n",
       "      <td>72895.0</td>\n",
       "      <td>12.919</td>\n",
       "      <td>8.3</td>\n",
       "    </tr>\n",
       "  </tbody>\n",
       "</table>\n",
       "</div>"
      ],
      "text/plain": [
       "         id                            title              genres  \\\n",
       "1   tm84618                      Taxi Driver      [crime, drama]   \n",
       "2  tm127384  Monty Python and the Holy Grail   [comedy, fantasy]   \n",
       "3   tm70993                    Life of Brian            [comedy]   \n",
       "4  tm190788                     The Exorcist            [horror]   \n",
       "5   ts22164     Monty Python's Flying Circus  [comedy, european]   \n",
       "\n",
       "                                         description    imdb_id  imdb_score  \\\n",
       "1  [A, mentally, unstable, Vietnam, War, veteran,...  tt0075314         8.3   \n",
       "2  [King, Arthur,, accompanied, by, his, squire,,...  tt0071853         8.2   \n",
       "3  [Brian, Cohen, is, an, average, young, Jewish,...  tt0079470         8.0   \n",
       "4  [12-year-old, Regan, MacNeil, begins, to, adap...  tt0070047         8.1   \n",
       "5  [A, British, sketch, comedy, series, with, the...  tt0063929         8.8   \n",
       "\n",
       "   imdb_votes  tmdb_popularity  tmdb_score  \n",
       "1    795222.0           27.612         8.2  \n",
       "2    530877.0           18.216         7.8  \n",
       "3    392419.0           17.505         7.8  \n",
       "4    391942.0           95.337         7.7  \n",
       "5     72895.0           12.919         8.3  "
      ]
     },
     "execution_count": 13,
     "metadata": {},
     "output_type": "execute_result"
    }
   ],
   "source": [
    "movies.head()"
   ]
  },
  {
   "cell_type": "code",
   "execution_count": 14,
   "id": "8f541304",
   "metadata": {},
   "outputs": [
    {
     "name": "stderr",
     "output_type": "stream",
     "text": [
      "/var/folders/zf/r7d7hnsn7738wkdh4qgs_lxr0000gn/T/ipykernel_79570/4216813577.py:1: SettingWithCopyWarning: \n",
      "A value is trying to be set on a copy of a slice from a DataFrame.\n",
      "Try using .loc[row_indexer,col_indexer] = value instead\n",
      "\n",
      "See the caveats in the documentation: https://pandas.pydata.org/pandas-docs/stable/user_guide/indexing.html#returning-a-view-versus-a-copy\n",
      "  movies['tags']= movies['genres'] + movies['description']\n"
     ]
    }
   ],
   "source": [
    "movies['tags']= movies['genres'] + movies['description']"
   ]
  },
  {
   "cell_type": "code",
   "execution_count": 15,
   "id": "22e0c671",
   "metadata": {},
   "outputs": [],
   "source": [
    "partial_df = movies[[\"id\", \"title\", \"tags\"]]"
   ]
  },
  {
   "cell_type": "code",
   "execution_count": 16,
   "id": "9087a0af",
   "metadata": {
    "scrolled": true
   },
   "outputs": [
    {
     "name": "stderr",
     "output_type": "stream",
     "text": [
      "/var/folders/zf/r7d7hnsn7738wkdh4qgs_lxr0000gn/T/ipykernel_79570/1075739565.py:1: SettingWithCopyWarning: \n",
      "A value is trying to be set on a copy of a slice from a DataFrame.\n",
      "Try using .loc[row_indexer,col_indexer] = value instead\n",
      "\n",
      "See the caveats in the documentation: https://pandas.pydata.org/pandas-docs/stable/user_guide/indexing.html#returning-a-view-versus-a-copy\n",
      "  partial_df['tags']=partial_df['tags'].apply(lambda x: \" \".join(x))\n",
      "/var/folders/zf/r7d7hnsn7738wkdh4qgs_lxr0000gn/T/ipykernel_79570/1075739565.py:2: SettingWithCopyWarning: \n",
      "A value is trying to be set on a copy of a slice from a DataFrame.\n",
      "Try using .loc[row_indexer,col_indexer] = value instead\n",
      "\n",
      "See the caveats in the documentation: https://pandas.pydata.org/pandas-docs/stable/user_guide/indexing.html#returning-a-view-versus-a-copy\n",
      "  partial_df['tags']=partial_df['tags'].apply(lambda x: x.lower())\n"
     ]
    }
   ],
   "source": [
    "partial_df['tags']=partial_df['tags'].apply(lambda x: \" \".join(x))\n",
    "partial_df['tags']=partial_df['tags'].apply(lambda x: x.lower())"
   ]
  },
  {
   "cell_type": "markdown",
   "id": "5759b8a8",
   "metadata": {},
   "source": [
    "## recommend movies"
   ]
  },
  {
   "cell_type": "code",
   "execution_count": 17,
   "id": "299fb884",
   "metadata": {},
   "outputs": [],
   "source": [
    "import nltk\n",
    "from nltk.stem import PorterStemmer,WordNetLemmatizer"
   ]
  },
  {
   "cell_type": "code",
   "execution_count": 18,
   "id": "a5fab02a",
   "metadata": {},
   "outputs": [
    {
     "name": "stderr",
     "output_type": "stream",
     "text": [
      "[nltk_data] Downloading package wordnet to /Users/XR/nltk_data...\n",
      "[nltk_data]   Package wordnet is already up-to-date!\n",
      "[nltk_data] Downloading package omw-1.4 to /Users/XR/nltk_data...\n"
     ]
    }
   ],
   "source": [
    "nltk.download('wordnet')\n",
    "nltk.download('omw-1.4')\n",
    "ps=PorterStemmer()\n",
    "wnl = WordNetLemmatizer()"
   ]
  },
  {
   "cell_type": "code",
   "execution_count": 19,
   "id": "545fa504",
   "metadata": {},
   "outputs": [],
   "source": [
    "def steam(text):\n",
    "    y=[]\n",
    "    for i in text.split():\n",
    "        y.append (ps.stem(i))\n",
    "    return \" \".join(y)\n",
    "\n",
    "def lemmi(text):\n",
    "    y=[]\n",
    "    for i in text.split():\n",
    "        y.append (wnl.lemmatize(i))\n",
    "    return \" \".join(y)"
   ]
  },
  {
   "cell_type": "code",
   "execution_count": 20,
   "id": "8da1934d",
   "metadata": {},
   "outputs": [
    {
     "name": "stderr",
     "output_type": "stream",
     "text": [
      "/var/folders/zf/r7d7hnsn7738wkdh4qgs_lxr0000gn/T/ipykernel_79570/3401374299.py:2: SettingWithCopyWarning: \n",
      "A value is trying to be set on a copy of a slice from a DataFrame.\n",
      "Try using .loc[row_indexer,col_indexer] = value instead\n",
      "\n",
      "See the caveats in the documentation: https://pandas.pydata.org/pandas-docs/stable/user_guide/indexing.html#returning-a-view-versus-a-copy\n",
      "  partial_df['tags']=partial_df['tags'].apply(lemmi)\n",
      "/var/folders/zf/r7d7hnsn7738wkdh4qgs_lxr0000gn/T/ipykernel_79570/3401374299.py:4: SettingWithCopyWarning: \n",
      "A value is trying to be set on a copy of a slice from a DataFrame.\n",
      "Try using .loc[row_indexer,col_indexer] = value instead\n",
      "\n",
      "See the caveats in the documentation: https://pandas.pydata.org/pandas-docs/stable/user_guide/indexing.html#returning-a-view-versus-a-copy\n",
      "  partial_df['tags']=partial_df['tags'].apply(steam)\n"
     ]
    }
   ],
   "source": [
    "#lemmitization\n",
    "partial_df['tags']=partial_df['tags'].apply(lemmi)\n",
    "#porter_steammer\n",
    "partial_df['tags']=partial_df['tags'].apply(steam)"
   ]
  },
  {
   "cell_type": "markdown",
   "id": "d97a5a7d",
   "metadata": {},
   "source": [
    "### extract feature"
   ]
  },
  {
   "cell_type": "code",
   "execution_count": 21,
   "id": "0f4abf40",
   "metadata": {},
   "outputs": [],
   "source": [
    "from sklearn.feature_extraction.text import TfidfVectorizer"
   ]
  },
  {
   "cell_type": "code",
   "execution_count": 57,
   "id": "5c3b8482",
   "metadata": {},
   "outputs": [],
   "source": [
    "tfidf=TfidfVectorizer(max_features=5000,analyzer='word',stop_words=\"english\")\n",
    "tfdf_features=tfidf.fit_transform(partial_df['tags'])"
   ]
  },
  {
   "cell_type": "code",
   "execution_count": 93,
   "id": "215176c0",
   "metadata": {},
   "outputs": [],
   "source": [
    "# recommend"
   ]
  },
  {
   "cell_type": "code",
   "execution_count": 25,
   "id": "8d4af6c8",
   "metadata": {},
   "outputs": [],
   "source": [
    "from sklearn.metrics.pairwise import cosine_similarity"
   ]
  },
  {
   "cell_type": "code",
   "execution_count": 87,
   "id": "4d0c9417",
   "metadata": {},
   "outputs": [],
   "source": [
    "'''\n",
    "recommend movie based on input string. This function uses \n",
    "tfidf with genre and descriptions of movies in the dataset\n",
    "as ranking function\n",
    "@param ipt_str: input string\n",
    "@return: a list of recommended movie\n",
    "'''\n",
    "def recommend_movie(ipt_str):\n",
    "    tfidf_ipt = tfidf.transform([ipt_str])\n",
    "    tfdf_similarity=cosine_similarity(tfdf_features, tfidf_ipt)\n",
    "    print(tfdf_similarity)\n",
    "    movies_list=sorted(list(enumerate(tfdf_similarity)), reverse=True, key=lambda x : x[1])[1:6]\n",
    "    for i in movies_list:\n",
    "        print(partial_df.iloc[i[0]].title)"
   ]
  },
  {
   "cell_type": "code",
   "execution_count": 98,
   "id": "7af40ffc",
   "metadata": {},
   "outputs": [
    {
     "name": "stdout",
     "output_type": "stream",
     "text": [
      "document secret from the \"stranger thing 2\" univers are reveal a cast and guest discu the latest episod with host jim rash. caution: spoiler ahead!\n"
     ]
    }
   ],
   "source": [
    "print(partial_df[partial_df['title']==\"Beyond Stranger Things\"][\"tags\"].item())"
   ]
  },
  {
   "cell_type": "code",
   "execution_count": 97,
   "id": "76615164",
   "metadata": {},
   "outputs": [
    {
     "name": "stdout",
     "output_type": "stream",
     "text": [
      "[[0.]\n",
      " [0.]\n",
      " [0.]\n",
      " ...\n",
      " [0.]\n",
      " [0.]\n",
      " [0.]]\n",
      "Beyond Stranger Things\n",
      "Can You Keep a Secret?\n",
      "Pee-wee's Big Holiday\n",
      "XOXO\n",
      "Rattlesnake\n"
     ]
    }
   ],
   "source": [
    "recommend_movie(\"stranger thing\")"
   ]
  }
 ],
 "metadata": {
  "kernelspec": {
   "display_name": "Python 3 (ipykernel)",
   "language": "python",
   "name": "python3"
  },
  "language_info": {
   "codemirror_mode": {
    "name": "ipython",
    "version": 3
   },
   "file_extension": ".py",
   "mimetype": "text/x-python",
   "name": "python",
   "nbconvert_exporter": "python",
   "pygments_lexer": "ipython3",
   "version": "3.9.13"
  }
 },
 "nbformat": 4,
 "nbformat_minor": 5
}
